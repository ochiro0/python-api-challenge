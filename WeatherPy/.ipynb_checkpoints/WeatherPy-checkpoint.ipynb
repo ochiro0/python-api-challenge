{
 "cells": [
  {
   "cell_type": "markdown",
   "metadata": {},
   "source": [
    "# WeatherPy\n",
    "\n",
    "---\n",
    "\n",
    "## Starter Code to Generate Random Geographic Coordinates and a List of Cities"
   ]
  },
  {
   "cell_type": "code",
   "execution_count": 1,
   "metadata": {
    "scrolled": true
   },
   "outputs": [
    {
     "name": "stdout",
     "output_type": "stream",
     "text": [
      "Requirement already satisfied: citipy in /opt/anaconda3/lib/python3.9/site-packages (0.0.5)\r\n",
      "Requirement already satisfied: kdtree>=0.12 in /opt/anaconda3/lib/python3.9/site-packages (from citipy) (0.16)\r\n"
     ]
    }
   ],
   "source": [
    "# Dependencies and Setup\n",
    "!pip install citipy\n",
    "\n",
    "import matplotlib.pyplot as plt\n",
    "import pandas as pd\n",
    "import numpy as np\n",
    "import requests\n",
    "import time\n",
    "import urllib\n",
    "from scipy import stats\n",
    "from scipy.stats import linregress\n",
    "\n",
    "# Impor the OpenWeatherMap API key\n",
    "from api_keys import weather_api_key\n",
    "\n",
    "# Import citipy to determine the cities based on latitude and longitude\n",
    "from citipy import citipy"
   ]
  },
  {
   "cell_type": "markdown",
   "metadata": {},
   "source": [
    "### Generate the Cities List by Using the `citipy` Library"
   ]
  },
  {
   "cell_type": "code",
   "execution_count": 2,
   "metadata": {},
   "outputs": [
    {
     "name": "stdout",
     "output_type": "stream",
     "text": [
      "Number of cities in the list: 614\n"
     ]
    }
   ],
   "source": [
    "# Empty list for holding the latitude and longitude combinations\n",
    "lat_lngs = []\n",
    "\n",
    "# Empty list for holding the cities names\n",
    "cities = []\n",
    "\n",
    "# Range of latitudes and longitudes\n",
    "lat_range = (-90, 90)\n",
    "lng_range = (-180, 180)\n",
    "\n",
    "# Create a set of random lat and lng combinations\n",
    "lats = np.random.uniform(lat_range[0], lat_range[1], size=1500)\n",
    "lngs = np.random.uniform(lng_range[0], lng_range[1], size=1500)\n",
    "lat_lngs = zip(lats, lngs)\n",
    "\n",
    "# Identify nearest city for each lat, lng combination\n",
    "for lat_lng in lat_lngs:\n",
    "    city = citipy.nearest_city(lat_lng[0], lat_lng[1]).city_name\n",
    "    \n",
    "    # If the city is unique, then add it to a our cities list\n",
    "    if city not in cities:\n",
    "        cities.append(city)\n",
    "\n",
    "# Print the city count to confirm sufficient count\n",
    "print(f\"Number of cities in the list: {len(cities)}\")"
   ]
  },
  {
   "cell_type": "markdown",
   "metadata": {},
   "source": [
    "---"
   ]
  },
  {
   "cell_type": "markdown",
   "metadata": {},
   "source": [
    "## Requirement 1: Create Plots to Showcase the Relationship Between Weather Variables and Latitude\n",
    "\n",
    "### Use the OpenWeatherMap API to retrieve weather data from the cities list generated in the started code"
   ]
  },
  {
   "cell_type": "code",
   "execution_count": null,
   "metadata": {},
   "outputs": [
    {
     "name": "stdout",
     "output_type": "stream",
     "text": [
      "Beginning Data Retrieval     \n",
      "-----------------------------\n",
      "Processing Record 1 of Set 1 | kapaa\n",
      "Processing Record 2 of Set 1 | port lincoln\n",
      "Processing Record 3 of Set 1 | matara\n",
      "Processing Record 4 of Set 1 | jamestown\n",
      "Processing Record 5 of Set 1 | attawapiskat\n",
      "City not found. Skipping...\n",
      "Processing Record 6 of Set 1 | ghoti\n",
      "Processing Record 7 of Set 1 | port macquarie\n",
      "Processing Record 8 of Set 1 | busselton\n",
      "Processing Record 9 of Set 1 | marcona\n",
      "City not found. Skipping...\n",
      "Processing Record 10 of Set 1 | shar\n",
      "Processing Record 11 of Set 1 | port elizabeth\n",
      "Processing Record 12 of Set 1 | ushuaia\n",
      "Processing Record 13 of Set 1 | lebu\n",
      "Processing Record 14 of Set 1 | haines junction\n",
      "Processing Record 15 of Set 1 | nantucket\n",
      "Processing Record 16 of Set 1 | tumannyy\n",
      "City not found. Skipping...\n",
      "Processing Record 17 of Set 1 | georgetown\n",
      "Processing Record 18 of Set 1 | chokurdakh\n",
      "Processing Record 19 of Set 1 | dikson\n",
      "Processing Record 20 of Set 1 | cabo san lucas\n",
      "Processing Record 21 of Set 1 | bouna\n",
      "Processing Record 22 of Set 1 | rikitea\n",
      "Processing Record 23 of Set 1 | mataura\n",
      "Processing Record 24 of Set 1 | hobart\n",
      "Processing Record 25 of Set 1 | monchegorsk\n",
      "Processing Record 26 of Set 1 | vila velha\n",
      "Processing Record 27 of Set 1 | aksu\n",
      "Processing Record 28 of Set 1 | hilo\n",
      "Processing Record 29 of Set 1 | brooklyn park\n",
      "Processing Record 30 of Set 1 | illoqqortoormiut\n",
      "City not found. Skipping...\n",
      "Processing Record 31 of Set 1 | broome\n",
      "Processing Record 32 of Set 1 | hasaki\n",
      "Processing Record 33 of Set 1 | sitka\n",
      "Processing Record 34 of Set 1 | umzimvubu\n",
      "City not found. Skipping...\n",
      "Processing Record 35 of Set 1 | bolshaya martynovka\n",
      "Processing Record 36 of Set 1 | rauma\n",
      "Processing Record 37 of Set 1 | kuningan\n",
      "Processing Record 38 of Set 1 | udachnyy\n",
      "Processing Record 39 of Set 1 | talnakh\n",
      "Processing Record 40 of Set 1 | tiksi\n",
      "Processing Record 41 of Set 1 | saint-philippe\n",
      "Processing Record 42 of Set 1 | kaeo\n",
      "Processing Record 43 of Set 1 | malanville\n",
      "Processing Record 44 of Set 1 | iqaluit\n",
      "Processing Record 45 of Set 1 | chicama\n",
      "Processing Record 46 of Set 1 | shemordan\n",
      "Processing Record 47 of Set 1 | laguna\n",
      "Processing Record 48 of Set 1 | barrow\n",
      "Processing Record 49 of Set 1 | provideniya\n",
      "Processing Record 50 of Set 1 | cape town\n",
      "Processing Record 0 of Set 2 | talcahuano\n",
      "Processing Record 1 of Set 2 | kahuta\n",
      "Processing Record 2 of Set 2 | taolanaro\n",
      "City not found. Skipping...\n",
      "Processing Record 3 of Set 2 | olkhovka\n",
      "Processing Record 4 of Set 2 | pundaguitan\n",
      "Processing Record 5 of Set 2 | asyut\n",
      "Processing Record 6 of Set 2 | ravar\n",
      "Processing Record 7 of Set 2 | yellowknife\n",
      "Processing Record 8 of Set 2 | albany\n",
      "Processing Record 9 of Set 2 | butaritari\n",
      "Processing Record 10 of Set 2 | bintulu\n",
      "Processing Record 11 of Set 2 | sedelnikovo\n",
      "City not found. Skipping...\n",
      "Processing Record 12 of Set 2 | cradock\n",
      "Processing Record 13 of Set 2 | chuy\n",
      "Processing Record 14 of Set 2 | geraldton\n",
      "Processing Record 15 of Set 2 | taltal\n",
      "Processing Record 16 of Set 2 | camacha\n",
      "Processing Record 17 of Set 2 | vytegra\n",
      "Processing Record 18 of Set 2 | kysyl-syr\n",
      "Processing Record 19 of Set 2 | vaini\n",
      "Processing Record 20 of Set 2 | college\n",
      "Processing Record 21 of Set 2 | pagudpud\n",
      "Processing Record 22 of Set 2 | kruisfontein\n",
      "Processing Record 23 of Set 2 | port alfred\n",
      "Processing Record 24 of Set 2 | bredasdorp\n",
      "Processing Record 25 of Set 2 | san nicolas\n",
      "Processing Record 26 of Set 2 | tsihombe\n",
      "City not found. Skipping...\n",
      "Processing Record 27 of Set 2 | lavrentiya\n",
      "Processing Record 28 of Set 2 | port keats\n",
      "Processing Record 29 of Set 2 | nouadhibou\n",
      "Processing Record 30 of Set 2 | hualmay\n",
      "Processing Record 31 of Set 2 | atuona\n",
      "Processing Record 32 of Set 2 | okhotsk\n",
      "Processing Record 33 of Set 2 | bluff\n",
      "Processing Record 34 of Set 2 | marienburg\n",
      "Processing Record 35 of Set 2 | miranda\n",
      "Processing Record 36 of Set 2 | xining\n",
      "Processing Record 37 of Set 2 | tuktoyaktuk\n",
      "Processing Record 38 of Set 2 | hithadhoo\n",
      "Processing Record 39 of Set 2 | souillac\n",
      "Processing Record 40 of Set 2 | yumen\n",
      "Processing Record 41 of Set 2 | tiruvottiyur\n",
      "City not found. Skipping...\n",
      "Processing Record 42 of Set 2 | basco\n",
      "Processing Record 43 of Set 2 | punta arenas\n",
      "Processing Record 44 of Set 2 | skibbereen\n",
      "Processing Record 45 of Set 2 | arroyo\n",
      "Processing Record 46 of Set 2 | northam\n",
      "Processing Record 47 of Set 2 | port hedland\n",
      "Processing Record 48 of Set 2 | polunochnoye\n",
      "Processing Record 49 of Set 2 | atar\n",
      "Processing Record 0 of Set 3 | puerto ayora\n",
      "Processing Record 1 of Set 3 | mar del plata\n",
      "Processing Record 2 of Set 3 | mys shmidta\n",
      "City not found. Skipping...\n",
      "Processing Record 3 of Set 3 | dawei\n",
      "Processing Record 4 of Set 3 | seymchan\n",
      "Processing Record 5 of Set 3 | castro\n",
      "Processing Record 6 of Set 3 | tamano\n",
      "Processing Record 7 of Set 3 | hermanus\n",
      "Processing Record 8 of Set 3 | hay river\n",
      "Processing Record 9 of Set 3 | alofi\n",
      "Processing Record 10 of Set 3 | tilichiki\n",
      "Processing Record 11 of Set 3 | wilmington\n",
      "Processing Record 12 of Set 3 | kulhudhuffushi\n",
      "Processing Record 13 of Set 3 | karkaralinsk\n",
      "City not found. Skipping...\n",
      "Processing Record 14 of Set 3 | pochinki\n",
      "Processing Record 15 of Set 3 | arraial do cabo\n",
      "Processing Record 16 of Set 3 | hami\n",
      "Processing Record 17 of Set 3 | qaqortoq\n",
      "Processing Record 18 of Set 3 | torbay\n",
      "Processing Record 19 of Set 3 | thompson\n",
      "Processing Record 20 of Set 3 | avarua\n",
      "Processing Record 21 of Set 3 | ostrovnoy\n",
      "Processing Record 22 of Set 3 | springbok\n",
      "Processing Record 23 of Set 3 | nikolskoye\n",
      "Processing Record 24 of Set 3 | amderma\n",
      "City not found. Skipping...\n",
      "Processing Record 25 of Set 3 | port moresby\n",
      "Processing Record 26 of Set 3 | sonepur\n",
      "Processing Record 27 of Set 3 | perigueux\n",
      "Processing Record 28 of Set 3 | kita\n",
      "Processing Record 29 of Set 3 | khani\n",
      "Processing Record 30 of Set 3 | galeana\n",
      "Processing Record 31 of Set 3 | carnarvon\n",
      "Processing Record 32 of Set 3 | seoul\n",
      "Processing Record 33 of Set 3 | praia da vitoria\n",
      "Processing Record 34 of Set 3 | floro\n",
      "Processing Record 35 of Set 3 | oktyabrskoye\n",
      "Processing Record 36 of Set 3 | vestmannaeyjar\n",
      "Processing Record 37 of Set 3 | sumbe\n",
      "Processing Record 38 of Set 3 | voh\n",
      "Processing Record 39 of Set 3 | buraydah\n",
      "Processing Record 40 of Set 3 | khudumelapye\n",
      "Processing Record 41 of Set 3 | lagoa\n",
      "Processing Record 42 of Set 3 | casma\n",
      "Processing Record 43 of Set 3 | tecoanapa\n",
      "Processing Record 44 of Set 3 | barentsburg\n",
      "City not found. Skipping...\n",
      "Processing Record 45 of Set 3 | salalah\n",
      "Processing Record 46 of Set 3 | airai\n",
      "Processing Record 47 of Set 3 | pevek\n",
      "Processing Record 48 of Set 3 | cockburn town\n",
      "Processing Record 49 of Set 3 | qaanaaq\n",
      "Processing Record 0 of Set 4 | cobija\n",
      "Processing Record 1 of Set 4 | huntingdon\n",
      "Processing Record 2 of Set 4 | touros\n",
      "Processing Record 3 of Set 4 | linxi\n",
      "Processing Record 4 of Set 4 | sentyabrskiy\n",
      "City not found. Skipping...\n",
      "Processing Record 5 of Set 4 | ugoofaaru\n",
      "Processing Record 6 of Set 4 | berlevag\n",
      "Processing Record 7 of Set 4 | belushya guba\n",
      "City not found. Skipping...\n",
      "Processing Record 8 of Set 4 | asau\n",
      "Processing Record 9 of Set 4 | phan rang\n",
      "City not found. Skipping...\n",
      "Processing Record 10 of Set 4 | cassilandia\n",
      "Processing Record 11 of Set 4 | srednekolymsk\n",
      "Processing Record 12 of Set 4 | lata\n",
      "Processing Record 13 of Set 4 | hutchinson\n",
      "Processing Record 14 of Set 4 | new norfolk\n",
      "Processing Record 15 of Set 4 | ouesso\n",
      "Processing Record 16 of Set 4 | ponta do sol\n"
     ]
    }
   ],
   "source": [
    "# Set the API base URL\n",
    "url = \"http://api.openweathermap.org/data/2.5/weather?units=Metric&APPID=\" + weather_api_key\n",
    "\n",
    "# Define an empty list to fetch the weather data for each city\n",
    "city_data = []\n",
    "\n",
    "# Print to logger\n",
    "print(\"Beginning Data Retrieval     \")\n",
    "print(\"-----------------------------\")\n",
    "\n",
    "# Create counters\n",
    "record_count = 1\n",
    "set_count = 1\n",
    "\n",
    "# Loop through all the cities in our list to fetch weather dat\n",
    "for i, city in enumerate(cities):\n",
    "    # Group cities in sets of 50 for logging purposes\n",
    "    if (i % 50 == 0 and i >= 50):\n",
    "        set_count += 1\n",
    "        record_count = 0\n",
    "\n",
    "    # Create endpoint URL with each city\n",
    "    city_url = url + \"&q=\" + urllib.request.pathname2url(city)\n",
    "\n",
    "    # Log the url, record, and set numbers\n",
    "    print(\"Processing Record %s of Set %s | %s\" % (record_count, set_count, city))\n",
    "\n",
    "    # Add 1 to the record count\n",
    "    record_count += 1\n",
    "\n",
    "    # Run an API request for each of the cities\n",
    "    try:\n",
    "        # Parse the JSON and retrieve data\n",
    "        city_weather = requests.get(city_url).json()\n",
    "\n",
    "        # Parse out the max temp, humidity, and cloudiness\n",
    "        city_lat = city_weather[\"coord\"][\"lat\"]\n",
    "        city_lng = city_weather[\"coord\"][\"lon\"]\n",
    "        city_max_temp = city_weather[\"main\"][\"temp_max\"]\n",
    "        city_humidity = city_weather[\"main\"][\"humidity\"]\n",
    "        city_clouds = city_weather[\"clouds\"][\"all\"]\n",
    "        city_wind = city_weather[\"wind\"][\"speed\"]\n",
    "        city_country = city_weather[\"sys\"][\"country\"]\n",
    "        city_date = city_weather[\"dt\"]\n",
    "\n",
    "        # Append the City information into city_data list\n",
    "        city_data.append({\"City\": city,\n",
    "                          \"Lat\": city_lat,\n",
    "                          \"Lng\": city_lng,\n",
    "                          \"Max Temp\": city_max_temp,\n",
    "                          \"Humidity\": city_humidity,\n",
    "                          \"Cloudiness\": city_clouds,\n",
    "                          \"Wind Speed\": city_wind,\n",
    "                          \"Country\": city_country,\n",
    "                          \"Date\": city_date})\n",
    "\n",
    "    # If an error is experienced, skip the city\n",
    "    except:\n",
    "        print(\"City not found. Skipping...\")\n",
    "        pass\n",
    "\n",
    "# Indicate that Data Loading is complete.\n",
    "print(\"-----------------------------\")\n",
    "print(\"Data Retrieval Complete      \")\n",
    "print(\"-----------------------------\")"
   ]
  },
  {
   "cell_type": "code",
   "execution_count": null,
   "metadata": {},
   "outputs": [],
   "source": [
    "# Convert the cities weather data into a Pandas DataFrame\n",
    "city_data_df = pd.DataFrame(city_data)\n",
    "# Show Record Count\n",
    "city_data_df.count()\n"
   ]
  },
  {
   "cell_type": "code",
   "execution_count": null,
   "metadata": {},
   "outputs": [],
   "source": [
    "# Display sample data\n",
    "city_data_df.head()"
   ]
  },
  {
   "cell_type": "code",
   "execution_count": null,
   "metadata": {},
   "outputs": [],
   "source": [
    "# Export the City_Data into a csv\n",
    "city_data_df.to_csv(\"../output_data/city.csv\", index_label=\"City_ID\")"
   ]
  },
  {
   "cell_type": "code",
   "execution_count": null,
   "metadata": {
    "scrolled": true
   },
   "outputs": [],
   "source": [
    "# Read saved data\n",
    "city_data_df = pd.read_csv(\"../output_data/city.csv\", index_col=\"City_ID\")\n",
    "\n",
    "# Display sample data\n",
    "city_data_df.head()"
   ]
  },
  {
   "cell_type": "markdown",
   "metadata": {},
   "source": [
    "### Create the Scatter Plots Requested\n",
    "\n",
    "#### Latitude Vs. Temperature"
   ]
  },
  {
   "cell_type": "code",
   "execution_count": null,
   "metadata": {},
   "outputs": [],
   "source": [
    "# Extract relevant fields from the DataFrame for plotting.\n",
    "lats = city_data_df[\"Lat\"]\n",
    "max_temps = city_data_df[\"Max Temp\"]\n",
    "humidity = city_data_df[\"Humidity\"]\n",
    "cloudiness = city_data_df[\"Cloudiness\"]\n",
    "wind_speed = city_data_df[\"Wind Speed\"]"
   ]
  },
  {
   "cell_type": "code",
   "execution_count": null,
   "metadata": {
    "tags": []
   },
   "outputs": [],
   "source": [
    "# Build scatter plot for latitude vs. temperature\n",
    "plt.scatter(lats,\n",
    "            max_temps,\n",
    "            edgecolor=\"black\", linewidths=1, marker=\"o\",\n",
    "            alpha=0.8, label=\"Cities\")\n",
    "\n",
    "# Incorporate the other graph properties\n",
    "plt.title(\"City Latitude vs. Max Temperature (%s)\" % time.strftime(\"%x\"))\n",
    "plt.ylabel(\"Max Temperature (F)\")\n",
    "plt.xlabel(\"Latitude\")\n",
    "plt.grid(True)\n",
    "\n",
    "\n",
    "# Save the figure\n",
    "plt.savefig(\"../output_data/Fig1.png\")\n",
    "\n",
    "# Show plot\n",
    "plt.show()"
   ]
  },
  {
   "cell_type": "markdown",
   "metadata": {},
   "source": [
    "#### Latitude Vs. Humidity"
   ]
  },
  {
   "cell_type": "code",
   "execution_count": null,
   "metadata": {},
   "outputs": [],
   "source": [
    "# Build the scatter plots for latitude vs. humidity.\n",
    "plt.scatter(lats,\n",
    "            humidity,\n",
    "            edgecolor=\"black\", linewidths=1, marker=\"o\",\n",
    "            alpha=0.8, label=\"Cities\")\n",
    "\n",
    "# Incorporate the other graph properties.\n",
    "plt.title(f\"City Latitude vs. Humidity \"+ time.strftime(\"%x\"))\n",
    "plt.ylabel(\"Humidity (%)\")\n",
    "plt.xlabel(\"Latitude\")\n",
    "plt.grid(True)\n",
    "\n",
    "# Save the figure\n",
    "plt.savefig(\"../output_data/Fig2.png\")\n",
    "\n",
    "# Show plot\n",
    "plt.show()"
   ]
  },
  {
   "cell_type": "markdown",
   "metadata": {},
   "source": [
    "#### Latitude Vs. Cloudiness"
   ]
  },
  {
   "cell_type": "code",
   "execution_count": null,
   "metadata": {},
   "outputs": [],
   "source": [
    "# Build the scatter plots for latitude vs. humidity.\n",
    "plt.scatter(lats,\n",
    "            humidity,\n",
    "            edgecolor=\"black\", linewidths=1, marker=\"o\",\n",
    "            alpha=0.8, label=\"Cities\")\n",
    "\n",
    "# Incorporate the other graph properties.\n",
    "plt.title(f\"City Latitude vs. Humidity \"+ time.strftime(\"%x\"))\n",
    "plt.ylabel(\"Humidity (%)\")\n",
    "plt.xlabel(\"Latitude\")\n",
    "plt.grid(True)\n",
    "\n",
    "# Save the figure\n",
    "plt.savefig(\"../output_data/Fig3.png\")\n",
    "\n",
    "# Show plot\n",
    "plt.show()"
   ]
  },
  {
   "cell_type": "markdown",
   "metadata": {},
   "source": [
    "#### Latitude vs. Wind Speed Plot"
   ]
  },
  {
   "cell_type": "code",
   "execution_count": null,
   "metadata": {},
   "outputs": [],
   "source": [
    "# Build the scatter plots for latitude vs. wind speed\n",
    "plt.scatter(lats,\n",
    "            wind_speed,\n",
    "            edgecolor=\"black\", linewidths=1, marker=\"o\",\n",
    "            alpha=0.8, label=\"Cities\")\n",
    "\n",
    "# Incorporate the other graph properties.\n",
    "plt.title(f\"City Latitude vs. Wind Speed \"+ time.strftime(\"%x\"))\n",
    "plt.ylabel(\"Wind Speed (mph)\")\n",
    "plt.xlabel(\"Latitude\")\n",
    "plt.grid(True)\n",
    "\n",
    "# Save the figure\n",
    "plt.savefig(\"../output_data/Fig4.png\")\n",
    "\n",
    "# Show plot\n",
    "plt.show()"
   ]
  },
  {
   "cell_type": "markdown",
   "metadata": {},
   "source": [
    "---\n",
    "\n",
    "## Requirement 2: Compute Linear Regression for Each Relationship\n"
   ]
  },
  {
   "cell_type": "code",
   "execution_count": null,
   "metadata": {},
   "outputs": [],
   "source": [
    "# Define a function to create Linear Regression plots\n",
    "def plot_linear_regression(x_values, y_values, title, y_label, text_coordinates):\n",
    "   \n",
    "    (slope, intercept, rvalue, pvalue, stderr) = linregress(x_values, y_values)\n",
    "    regress_values = x_values * slope + intercept\n",
    "    line_eq = \"y = \" + str(round(slope,2)) + \"x + \" + str(round(intercept,2))\n",
    "    plt.scatter(x_values,y_values)\n",
    "    plt.plot(x_values,regress_values,\"r\")\n",
    "    plt.annotate(line_eq,text_coordinates,fontsize=15,color=\"red\")\n",
    "    plt.xlabel('Latitude')\n",
    "    plt.ylabel(y_label)\n",
    "    plt.title(title)\n",
    "    print(f\"The r-value is: {rvalue}\")\n",
    "    plt.show()"
   ]
  },
  {
   "cell_type": "code",
   "execution_count": null,
   "metadata": {},
   "outputs": [],
   "source": [
    "# Create a DataFrame with the Northern Hemisphere data (Latitude >= 0)\n",
    "northern_hemi_df = city_data_df.loc[(city_data_df[\"Lat\"] >= 0)]\n",
    "\n",
    "# Display sample data\n",
    "northern_hemi_df.head()"
   ]
  },
  {
   "cell_type": "code",
   "execution_count": null,
   "metadata": {},
   "outputs": [],
   "source": [
    "# Create a DataFrame with the Southern Hemisphere data (Latitude < 0)\n",
    "southern_hemi_df = city_data_df.loc[(city_data_df[\"Lat\"] < 0)]\n",
    "\n",
    "# Display sample data\n",
    "southern_hemi_df.head()"
   ]
  },
  {
   "cell_type": "markdown",
   "metadata": {},
   "source": [
    "###  Temperature vs. Latitude Linear Regression Plot"
   ]
  },
  {
   "cell_type": "code",
   "execution_count": null,
   "metadata": {},
   "outputs": [],
   "source": [
    "# Linear regression on Northern Hemisphere\n",
    "x_values = northern_hemi_df[\"Lat\"]\n",
    "y_values = northern_hemi_df[\"Max Temp\"]\n",
    "plot_linear_regression(x_values, y_values,\n",
    "                       title='Linear Regression on the Northern Hemisphere for Maximum Temperature',\n",
    "                       y_label='Max Temp', \n",
    "                       text_coordinates=(10,-10))\n"
   ]
  },
  {
   "cell_type": "code",
   "execution_count": null,
   "metadata": {},
   "outputs": [],
   "source": [
    "# Linear regression on Southern Hemisphere\n",
    "x_values = southern_hemi_df[\"Lat\"]\n",
    "y_values = southern_hemi_df[\"Max Temp\"]\n",
    "plot_linear_regression(x_values, y_values,\n",
    "                       title='Linear Regression on the Southern Hemisphere for Maximum Temperature', \n",
    "                       y_label='Max Temp',\n",
    "                       text_coordinates=(-50,35))"
   ]
  },
  {
   "cell_type": "markdown",
   "metadata": {},
   "source": [
    "### Humidity vs. Latitude Linear Regression Plot"
   ]
  },
  {
   "cell_type": "code",
   "execution_count": null,
   "metadata": {},
   "outputs": [],
   "source": [
    "# Northern Hemisphere\n",
    "x_values = northern_hemi_df[\"Lat\"]\n",
    "y_values = northern_hemi_df[\"Humidity\"]\n",
    "# Call the function.\n",
    "plot_linear_regression(x_values, y_values,\n",
    "                       title='Linear Regression on the Northern Hemisphere for Humidity', \n",
    "                       y_label='Humidity',\n",
    "                       text_coordinates=(44,10))"
   ]
  },
  {
   "cell_type": "code",
   "execution_count": null,
   "metadata": {},
   "outputs": [],
   "source": [
    "# Southern Hemisphere\n",
    "x_values = southern_hemi_df[\"Lat\"]\n",
    "y_values = southern_hemi_df[\"Humidity\"]\n",
    "plot_linear_regression(x_values, y_values,\n",
    "                       title='Linear Regression on the Southern Hemisphere for Humidity', \n",
    "                       y_label='Humidity',\n",
    "                       text_coordinates=(-50,10))"
   ]
  },
  {
   "cell_type": "markdown",
   "metadata": {},
   "source": [
    "### Cloudiness vs. Latitude Linear Regression Plot"
   ]
  },
  {
   "cell_type": "code",
   "execution_count": null,
   "metadata": {},
   "outputs": [],
   "source": [
    "# Northern Hemisphere\n",
    "x_values = northern_hemi_df[\"Lat\"]\n",
    "y_values = northern_hemi_df[\"Cloudiness\"]\n",
    "plot_linear_regression(x_values, y_values,\n",
    "                       'Linear Regression on the Northern Hemisphere for Cloudiness', 'Cloudiness',(40,10))\n"
   ]
  },
  {
   "cell_type": "code",
   "execution_count": null,
   "metadata": {},
   "outputs": [],
   "source": [
    "# Southern Hemisphere\n",
    "x_values = southern_hemi_df[\"Lat\"]\n",
    "y_values = southern_hemi_df[\"Cloudiness\"]\n",
    "plot_linear_regression(x_values, y_values,\n",
    "                       'Linear Regression on the Southern Hemisphere for Cloudiness', 'Cloudiness',(-50,10))"
   ]
  },
  {
   "cell_type": "markdown",
   "metadata": {},
   "source": [
    "### Wind Speed vs. Latitude Linear Regression Plot"
   ]
  },
  {
   "cell_type": "code",
   "execution_count": null,
   "metadata": {},
   "outputs": [],
   "source": [
    "# Northern Hemisphere\n",
    "x_values = northern_hemi_df[\"Lat\"]\n",
    "y_values = northern_hemi_df[\"Wind Speed\"]\n",
    "\n",
    "plot_linear_regression(x_values, y_values,\n",
    "                       'Linear Regression on the Northern Hemisphere for Wind Speed', 'Wind Speed',(0,14))"
   ]
  },
  {
   "cell_type": "code",
   "execution_count": null,
   "metadata": {},
   "outputs": [],
   "source": [
    "# Southern Hemisphere\n",
    "x_values = southern_hemi_df[\"Lat\"]\n",
    "y_values = southern_hemi_df[\"Wind Speed\"]\n",
    "\n",
    "plot_linear_regression(x_values, y_values,\n",
    "                       'Linear Regression on the Southern Hemisphere for Wind Speed', 'Wind Speed',(-50,12))"
   ]
  },
  {
   "cell_type": "code",
   "execution_count": null,
   "metadata": {},
   "outputs": [],
   "source": []
  }
 ],
 "metadata": {
  "anaconda-cloud": {},
  "kernel_info": {
   "name": "python3"
  },
  "kernelspec": {
   "display_name": "Python 3 (ipykernel)",
   "language": "python",
   "name": "python3"
  },
  "language_info": {
   "codemirror_mode": {
    "name": "ipython",
    "version": 3
   },
   "file_extension": ".py",
   "mimetype": "text/x-python",
   "name": "python",
   "nbconvert_exporter": "python",
   "pygments_lexer": "ipython3",
   "version": "3.9.13"
  },
  "latex_envs": {
   "LaTeX_envs_menu_present": true,
   "autoclose": false,
   "autocomplete": true,
   "bibliofile": "biblio.bib",
   "cite_by": "apalike",
   "current_citInitial": 1,
   "eqLabelWithNumbers": true,
   "eqNumInitial": 1,
   "hotkeys": {
    "equation": "Ctrl-E",
    "itemize": "Ctrl-I"
   },
   "labels_anchors": false,
   "latex_user_defs": false,
   "report_style_numbering": false,
   "user_envs_cfg": false
  },
  "nteract": {
   "version": "0.12.3"
  }
 },
 "nbformat": 4,
 "nbformat_minor": 4
}
